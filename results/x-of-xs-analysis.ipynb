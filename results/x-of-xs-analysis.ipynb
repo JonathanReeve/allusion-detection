{
 "cells": [
  {
   "cell_type": "code",
   "execution_count": 51,
   "metadata": {
    "collapsed": true
   },
   "outputs": [],
   "source": [
    "import pandas as pd\n",
    "import re\n",
    "from collections import Counter"
   ]
  },
  {
   "cell_type": "code",
   "execution_count": 17,
   "metadata": {
    "collapsed": true
   },
   "outputs": [],
   "source": [
    "results = open('cenlab-xxs-experiment.txt').read()"
   ]
  },
  {
   "cell_type": "code",
   "execution_count": 85,
   "metadata": {
    "collapsed": false
   },
   "outputs": [],
   "source": [
    "matches = re.findall('\\x1b\\[31m(.*?)\\x1b\\[0m', results)"
   ]
  },
  {
   "cell_type": "code",
   "execution_count": 87,
   "metadata": {
    "collapsed": false
   },
   "outputs": [
    {
     "data": {
      "text/plain": [
       "[('heart of hearts', 81),\n",
       " ('ry of rys', 38),\n",
       " ('king of kings', 24),\n",
       " ('god of gods', 10),\n",
       " ('day of days', 9),\n",
       " ('wonder of wonders', 8),\n",
       " ('song of songs', 4),\n",
       " ('crime of crimes', 4),\n",
       " ('joy of joys', 4),\n",
       " ('night of nights', 4),\n",
       " ('form of forms', 4),\n",
       " ('tree of trees', 3),\n",
       " ('friend of friends', 3),\n",
       " ('death of deaths', 2),\n",
       " ('sin of sins', 2),\n",
       " ('end of ends', 2),\n",
       " ('queen of queens', 2),\n",
       " ('house of houses', 2),\n",
       " ('fact of facts', 2),\n",
       " ('servant of servants', 2)]"
      ]
     },
     "execution_count": 87,
     "metadata": {},
     "output_type": "execute_result"
    }
   ],
   "source": [
    "Counter(matches).most_common(20)"
   ]
  },
  {
   "cell_type": "code",
   "execution_count": null,
   "metadata": {
    "collapsed": true
   },
   "outputs": [],
   "source": []
  }
 ],
 "metadata": {
  "kernelspec": {
   "display_name": "Python 3",
   "language": "python",
   "name": "python3"
  },
  "language_info": {
   "codemirror_mode": {
    "name": "ipython",
    "version": 3
   },
   "file_extension": ".py",
   "mimetype": "text/x-python",
   "name": "python",
   "nbconvert_exporter": "python",
   "pygments_lexer": "ipython3",
   "version": "3.5.1"
  }
 },
 "nbformat": 4,
 "nbformat_minor": 0
}
