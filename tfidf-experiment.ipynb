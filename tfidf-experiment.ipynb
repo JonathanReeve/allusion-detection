{
 "cells": [
  {
   "cell_type": "code",
   "execution_count": 160,
   "metadata": {
    "collapsed": false
   },
   "outputs": [],
   "source": [
    "import nltk\n",
    "import glob\n",
    "from sklearn.feature_extraction.text import TfidfVectorizer"
   ]
  },
  {
   "cell_type": "code",
   "execution_count": 226,
   "metadata": {
    "collapsed": false
   },
   "outputs": [],
   "source": [
    "files = ['tfidf/kjv.txt', 'tfidf/origin.txt', 'tfidf/middlemarch.txt']"
   ]
  },
  {
   "cell_type": "code",
   "execution_count": 227,
   "metadata": {
    "collapsed": false
   },
   "outputs": [],
   "source": [
    "contents = [open(file, encoding='utf-8', errors='ignore').read() for file in files]"
   ]
  },
  {
   "cell_type": "code",
   "execution_count": 228,
   "metadata": {
    "collapsed": false
   },
   "outputs": [],
   "source": [
    "vectorizer = TfidfVectorizer(analyzer='word', token_pattern='[a-zA-Z]\\w+\\'?\\w*', ngram_range=(3,3), min_df = 1)\n",
    "tfidf_matrix = vectorizer.fit_transform(contents)\n",
    "feature_names = vectorizer.get_feature_names()"
   ]
  },
  {
   "cell_type": "code",
   "execution_count": 229,
   "metadata": {
    "collapsed": false
   },
   "outputs": [
    {
     "data": {
      "text/plain": [
       "<3x775633 sparse matrix of type '<class 'numpy.float64'>'\n",
       "\twith 795775 stored elements in Compressed Sparse Row format>"
      ]
     },
     "execution_count": 229,
     "metadata": {},
     "output_type": "execute_result"
    }
   ],
   "source": [
    "tfidf_matrix"
   ]
  },
  {
   "cell_type": "code",
   "execution_count": 230,
   "metadata": {
    "collapsed": false
   },
   "outputs": [],
   "source": [
    "dense = tfidf_matrix.todense()"
   ]
  },
  {
   "cell_type": "code",
   "execution_count": 231,
   "metadata": {
    "collapsed": true
   },
   "outputs": [],
   "source": [
    "def lookupWord(word, dense, feature_names): \n",
    "    idx = feature_names.index(word)\n",
    "    return dense[0].tolist()[0][idx]"
   ]
  },
  {
   "cell_type": "code",
   "execution_count": 232,
   "metadata": {
    "collapsed": false
   },
   "outputs": [
    {
     "data": {
      "text/plain": [
       "0.008384864184932048"
      ]
     },
     "execution_count": 232,
     "metadata": {},
     "output_type": "execute_result"
    }
   ],
   "source": [
    "lookupWord('the other side', dense, feature_names)"
   ]
  },
  {
   "cell_type": "code",
   "execution_count": 248,
   "metadata": {
    "collapsed": false
   },
   "outputs": [],
   "source": [
    "kjvWords=dense.tolist()[2]\n",
    "scores = [pair for pair in zip(range(0, len(kjvWords)), kjvWords)] "
   ]
  },
  {
   "cell_type": "code",
   "execution_count": 249,
   "metadata": {
    "collapsed": false
   },
   "outputs": [],
   "source": [
    "toplist = sorted(scores, key=lambda t: t[1], reverse=True)[:20]"
   ]
  },
  {
   "cell_type": "code",
   "execution_count": 250,
   "metadata": {
    "collapsed": false
   },
   "outputs": [
    {
     "name": "stdout",
     "output_type": "stream",
     "text": [
      "that he was                    0.11134390947253452\n",
      "that he had                    0.0975541807630664\n",
      "said mr brooke                 0.08884336828688107\n",
      "he had been                    0.08469750378679976\n",
      "would have been                0.08279418909496157\n",
      "said sir james                 0.08133547800911647\n",
      "it would be                    0.0790780101640008\n",
      "if he had                      0.06947098625209419\n",
      "as if he                       0.06566435686841779\n",
      "she had been                   0.0628093848306605\n",
      "that he should                 0.0628093848306605\n",
      "he had not                     0.0618577274847414\n",
      "there was no                   0.0618577274847414\n",
      "which he had                   0.059123745917009946\n",
      "out of the                     0.05838469909304732\n",
      "that she was                   0.058051098101065\n",
      "in spite of                    0.05505786203694038\n",
      "as well as                     0.054689464973234195\n",
      "he did not                     0.053950418149271574\n",
      "mr casaubon had                0.053806546990646284\n"
     ]
    }
   ],
   "source": [
    "for phrase, score in [(feature_names[word_id], score) for (word_id, score) in toplist][:20]:\n",
    "   print('{0: <30} {1}'.format(phrase, score))"
   ]
  },
  {
   "cell_type": "code",
   "execution_count": null,
   "metadata": {
    "collapsed": true
   },
   "outputs": [],
   "source": []
  }
 ],
 "metadata": {
  "kernelspec": {
   "display_name": "Python 3",
   "language": "python",
   "name": "python3"
  },
  "language_info": {
   "codemirror_mode": {
    "name": "ipython",
    "version": 3
   },
   "file_extension": ".py",
   "mimetype": "text/x-python",
   "name": "python",
   "nbconvert_exporter": "python",
   "pygments_lexer": "ipython3",
   "version": "3.5.1"
  }
 },
 "nbformat": 4,
 "nbformat_minor": 0
}
