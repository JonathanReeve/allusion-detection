{
 "cells": [
  {
   "cell_type": "code",
   "execution_count": 26,
   "metadata": {
    "collapsed": false
   },
   "outputs": [],
   "source": [
    "import pandas as pd\n",
    "%matplotlib inline\n",
    "import matplotlib.pyplot as plt\n",
    "plt.style.use('ggplot')\n",
    "plt.rcParams['figure.figsize'] = (10,5)\n",
    "plt.rcParams.update({'figure.autolayout': True})"
   ]
  },
  {
   "cell_type": "code",
   "execution_count": 27,
   "metadata": {
    "collapsed": true
   },
   "outputs": [],
   "source": [
    "with open('cen-list.txt') as f, open('txtlab-list.txt') as g: \n",
    "    cen = f.read().splitlines()\n",
    "    txtlab = g.read().splitlines()"
   ]
  },
  {
   "cell_type": "code",
   "execution_count": 28,
   "metadata": {
    "collapsed": false
   },
   "outputs": [],
   "source": [
    "cdf = pd.DataFrame(cen)"
   ]
  },
  {
   "cell_type": "code",
   "execution_count": 29,
   "metadata": {
    "collapsed": false
   },
   "outputs": [],
   "source": [
    "cdf['date'] = df[0].apply(lambda x: int(x.split(' ')[0]))"
   ]
  },
  {
   "cell_type": "code",
   "execution_count": 75,
   "metadata": {
    "collapsed": false
   },
   "outputs": [
    {
     "name": "stderr",
     "output_type": "stream",
     "text": [
      "/usr/lib/python3.5/site-packages/matplotlib/figure.py:1744: UserWarning: This figure includes Axes that are not compatible with tight_layout, so its results might be incorrect.\n",
      "  warnings.warn(\"This figure includes Axes that are not \"\n"
     ]
    },
    {
     "data": {
      "image/png": "[encoded data removed]",
      "text/plain": [
       "<matplotlib.figure.Figure at 0x7fae3acb5da0>"
      ]
     },
     "metadata": {},
     "output_type": "display_data"
    }
   ],
   "source": [
    "cdfdates = cdf['date']\n",
    "txtdates = tdf['date']\n",
    "alldates = pd.concat([cdfdates, txtdates], ignore_index=True)\n",
    "ax = alldates.hist()"
   ]
  },
  {
   "cell_type": "code",
   "execution_count": 76,
   "metadata": {
    "collapsed": true
   },
   "outputs": [],
   "source": [
    "ax.set_xlabel(\"Date of Publication\")\n",
    "ax.set_ylabel(\"Number of Novels in Corpus\")\n",
    "fig = ax.get_figure()\n",
    "fig.savefig('cenlab-dates.png')"
   ]
  },
  {
   "cell_type": "code",
   "execution_count": 54,
   "metadata": {
    "collapsed": false
   },
   "outputs": [
    {
     "name": "stderr",
     "output_type": "stream",
     "text": [
      "/usr/lib/python3.5/site-packages/matplotlib/figure.py:1744: UserWarning: This figure includes Axes that are not compatible with tight_layout, so its results might be incorrect.\n",
      "  warnings.warn(\"This figure includes Axes that are not \"\n"
     ]
    },
    {
     "data": {
      "image/png": "[encoded data removed]",
      "text/plain": [
       "<matplotlib.figure.Figure at 0x7fae3adceac8>"
      ]
     },
     "metadata": {},
     "output_type": "display_data"
    }
   ],
   "source": [
    "ax = cdf['date'].hist()"
   ]
  },
  {
   "cell_type": "code",
   "execution_count": 72,
   "metadata": {
    "collapsed": true
   },
   "outputs": [],
   "source": [
    "def plotHist(df, filename): \n",
    "    ax = df.hist()\n",
    "    ax.set_xlabel(\"Date of Publication\")\n",
    "    ax.set_ylabel(\"Number of Novels in Corpus\")\n",
    "    fig = ax.get_figure()\n",
    "    fig.savefig(filename)"
   ]
  },
  {
   "cell_type": "code",
   "execution_count": 55,
   "metadata": {
    "collapsed": false
   },
   "outputs": [],
   "source": [
    "ax.set_xlabel(\"Date of Publication\")\n",
    "ax.set_ylabel(\"Number of Novels in Corpus\")\n",
    "fig = ax.get_figure()\n",
    "fig.savefig('cen-dates.png')"
   ]
  },
  {
   "cell_type": "code",
   "execution_count": 44,
   "metadata": {
    "collapsed": true
   },
   "outputs": [],
   "source": [
    "tdf = pd.DataFrame(txtlab)"
   ]
  },
  {
   "cell_type": "code",
   "execution_count": 45,
   "metadata": {
    "collapsed": false
   },
   "outputs": [],
   "source": [
    "tdf['date'] = tdf[0].apply(lambda x: int(x.split('_')[1]))"
   ]
  },
  {
   "cell_type": "code",
   "execution_count": 56,
   "metadata": {
    "collapsed": false
   },
   "outputs": [
    {
     "data": {
      "text/html": [
       "<div>\n",
       "<table border=\"1\" class=\"dataframe\">\n",
       "  <thead>\n",
       "    <tr style=\"text-align: right;\">\n",
       "      <th></th>\n",
       "      <th>0</th>\n",
       "      <th>date</th>\n",
       "    </tr>\n",
       "  </thead>\n",
       "  <tbody>\n",
       "    <tr>\n",
       "      <th>0</th>\n",
       "      <td>EN_1771_Mackenzie,Henry_TheManofFeeling_Novel.txt</td>\n",
       "      <td>1771</td>\n",
       "    </tr>\n",
       "    <tr>\n",
       "      <th>1</th>\n",
       "      <td>EN_1771_Smollett,Tobias_TheExpedictionofHenryC...</td>\n",
       "      <td>1771</td>\n",
       "    </tr>\n",
       "    <tr>\n",
       "      <th>2</th>\n",
       "      <td>EN_1778_Burney,Fanny_Evelina_Novel.txt</td>\n",
       "      <td>1778</td>\n",
       "    </tr>\n",
       "    <tr>\n",
       "      <th>3</th>\n",
       "      <td>EN_1782_Burney,Fanny_Cecilia_Novel.txt</td>\n",
       "      <td>1782</td>\n",
       "    </tr>\n",
       "    <tr>\n",
       "      <th>4</th>\n",
       "      <td>EN_1786_Beckford,William_Vathek_Novel.txt</td>\n",
       "      <td>1786</td>\n",
       "    </tr>\n",
       "    <tr>\n",
       "      <th>5</th>\n",
       "      <td>EN_1788_Wollstonecraft,Mary_Mary_Novel.txt</td>\n",
       "      <td>1788</td>\n",
       "    </tr>\n",
       "    <tr>\n",
       "      <th>6</th>\n",
       "      <td>EN_1790_Radcliffe,Ann_ASicilianRomance_Novel.txt</td>\n",
       "      <td>1790</td>\n",
       "    </tr>\n",
       "    <tr>\n",
       "      <th>9</th>\n",
       "      <td>EN_1794_Rowson,Susanna_CharlotteTemple_Novel.txt</td>\n",
       "      <td>1794</td>\n",
       "    </tr>\n",
       "    <tr>\n",
       "      <th>8</th>\n",
       "      <td>EN_1794_Radcliffe,Ann_TheMysteriesofUdolpho_No...</td>\n",
       "      <td>1794</td>\n",
       "    </tr>\n",
       "    <tr>\n",
       "      <th>7</th>\n",
       "      <td>EN_1794_Godwin,William_CalebWilliams_Novel.txt</td>\n",
       "      <td>1794</td>\n",
       "    </tr>\n",
       "    <tr>\n",
       "      <th>10</th>\n",
       "      <td>EN_1795_Lewis,Matthew_TheMonk_Novel.txt</td>\n",
       "      <td>1795</td>\n",
       "    </tr>\n",
       "    <tr>\n",
       "      <th>11</th>\n",
       "      <td>EN_1796_Bonhote,Elizabeth_BungayCastle_Novel.txt</td>\n",
       "      <td>1796</td>\n",
       "    </tr>\n",
       "    <tr>\n",
       "      <th>12</th>\n",
       "      <td>EN_1796_Burney,Fanny_Camilla_Novel.txt</td>\n",
       "      <td>1796</td>\n",
       "    </tr>\n",
       "    <tr>\n",
       "      <th>13</th>\n",
       "      <td>EN_1796_Hays,Mary_EmmaCourtney_Novel.txt</td>\n",
       "      <td>1796</td>\n",
       "    </tr>\n",
       "    <tr>\n",
       "      <th>14</th>\n",
       "      <td>EN_1797_Foster,HannahWebster_TheCoquette_Novel...</td>\n",
       "      <td>1797</td>\n",
       "    </tr>\n",
       "    <tr>\n",
       "      <th>15</th>\n",
       "      <td>EN_1798_Brown,CharlesBrockden_Wieland_Novel.txt</td>\n",
       "      <td>1798</td>\n",
       "    </tr>\n",
       "    <tr>\n",
       "      <th>16</th>\n",
       "      <td>EN_1798_Wollstonecraft,Mary_Maria_Novel.txt</td>\n",
       "      <td>1798</td>\n",
       "    </tr>\n",
       "    <tr>\n",
       "      <th>17</th>\n",
       "      <td>EN_1799_Brown,CharlesBrockden_ArthurMervyn_Nov...</td>\n",
       "      <td>1799</td>\n",
       "    </tr>\n",
       "    <tr>\n",
       "      <th>18</th>\n",
       "      <td>EN_1800_Edgeworth,Maria_CastleRackrent_Novel.txt</td>\n",
       "      <td>1800</td>\n",
       "    </tr>\n",
       "    <tr>\n",
       "      <th>19</th>\n",
       "      <td>EN_1801_Edgeworth,Maria_Belinda_Novel.txt</td>\n",
       "      <td>1801</td>\n",
       "    </tr>\n",
       "    <tr>\n",
       "      <th>20</th>\n",
       "      <td>EN_1804_Opie,Amelia_AdelineMowbray_Novel.txt</td>\n",
       "      <td>1804</td>\n",
       "    </tr>\n",
       "    <tr>\n",
       "      <th>21</th>\n",
       "      <td>EN_1805_Lewis,Matthew_TheBravoofVenice_Novel.txt</td>\n",
       "      <td>1805</td>\n",
       "    </tr>\n",
       "    <tr>\n",
       "      <th>22</th>\n",
       "      <td>EN_1806_Edgeworth,Maria_Leonora_Novel.txt</td>\n",
       "      <td>1806</td>\n",
       "    </tr>\n",
       "    <tr>\n",
       "      <th>23</th>\n",
       "      <td>EN_1809_More,Hannah_CoelebsinSearchofaWife_Nov...</td>\n",
       "      <td>1809</td>\n",
       "    </tr>\n",
       "    <tr>\n",
       "      <th>24</th>\n",
       "      <td>EN_1811_Austen,Jane_SenseandSensibility_Novel.txt</td>\n",
       "      <td>1811</td>\n",
       "    </tr>\n",
       "    <tr>\n",
       "      <th>25</th>\n",
       "      <td>EN_1813_Austen,Jane_PrideandPrejudice_Novel.txt</td>\n",
       "      <td>1813</td>\n",
       "    </tr>\n",
       "    <tr>\n",
       "      <th>27</th>\n",
       "      <td>EN_1814_Scott,Walter_Waverley_Novel.txt</td>\n",
       "      <td>1814</td>\n",
       "    </tr>\n",
       "    <tr>\n",
       "      <th>26</th>\n",
       "      <td>EN_1814_Austen,Jane_MansfieldPark_Novel.txt</td>\n",
       "      <td>1814</td>\n",
       "    </tr>\n",
       "    <tr>\n",
       "      <th>28</th>\n",
       "      <td>EN_1815_Peacock,ThomasLove_HeadlongHall_Novel.txt</td>\n",
       "      <td>1815</td>\n",
       "    </tr>\n",
       "    <tr>\n",
       "      <th>29</th>\n",
       "      <td>EN_1817_Scott,Walter_RobRoy_Novel.txt</td>\n",
       "      <td>1817</td>\n",
       "    </tr>\n",
       "    <tr>\n",
       "      <th>...</th>\n",
       "      <td>...</td>\n",
       "      <td>...</td>\n",
       "    </tr>\n",
       "    <tr>\n",
       "      <th>121</th>\n",
       "      <td>EN_1903_Norris,Frank_ThePit_Novel.txt</td>\n",
       "      <td>1903</td>\n",
       "    </tr>\n",
       "    <tr>\n",
       "      <th>119</th>\n",
       "      <td>EN_1903_James,Henry_TheAmbassadors_Novel.txt</td>\n",
       "      <td>1903</td>\n",
       "    </tr>\n",
       "    <tr>\n",
       "      <th>122</th>\n",
       "      <td>EN_1904_Murfree,MaryNoailles_TheFrontiersman_N...</td>\n",
       "      <td>1904</td>\n",
       "    </tr>\n",
       "    <tr>\n",
       "      <th>123</th>\n",
       "      <td>EN_1905_Orczy,Emma_TheScarletPimpernel_Novel.txt</td>\n",
       "      <td>1905</td>\n",
       "    </tr>\n",
       "    <tr>\n",
       "      <th>124</th>\n",
       "      <td>EN_1905_Wharton,Edith_TheHouseofMirth_Novel.txt</td>\n",
       "      <td>1905</td>\n",
       "    </tr>\n",
       "    <tr>\n",
       "      <th>125</th>\n",
       "      <td>EN_1906_London,Jack_WhiteFang_Novel.txt</td>\n",
       "      <td>1906</td>\n",
       "    </tr>\n",
       "    <tr>\n",
       "      <th>126</th>\n",
       "      <td>EN_1906_Sinclair,Upton_TheJungle_Novel.txt</td>\n",
       "      <td>1906</td>\n",
       "    </tr>\n",
       "    <tr>\n",
       "      <th>127</th>\n",
       "      <td>EN_1906_Stein,Gertrude_ThreeLives_Novel.txt</td>\n",
       "      <td>1906</td>\n",
       "    </tr>\n",
       "    <tr>\n",
       "      <th>128</th>\n",
       "      <td>EN_1908_Forster,E.M._ARoomWithaView_Novel.txt</td>\n",
       "      <td>1908</td>\n",
       "    </tr>\n",
       "    <tr>\n",
       "      <th>129</th>\n",
       "      <td>EN_1910_Forster,E.M._HowardsEnd_Novel.txt</td>\n",
       "      <td>1910</td>\n",
       "    </tr>\n",
       "    <tr>\n",
       "      <th>131</th>\n",
       "      <td>EN_1911_Wharton,Edith_EthanFrome_Novel.txt</td>\n",
       "      <td>1911</td>\n",
       "    </tr>\n",
       "    <tr>\n",
       "      <th>130</th>\n",
       "      <td>EN_1911_Barrie,J.M._PeterPan_Novel.txt</td>\n",
       "      <td>1911</td>\n",
       "    </tr>\n",
       "    <tr>\n",
       "      <th>132</th>\n",
       "      <td>EN_1912_Cather,Willa_Alexander'sBridge_Novel.txt</td>\n",
       "      <td>1912</td>\n",
       "    </tr>\n",
       "    <tr>\n",
       "      <th>133</th>\n",
       "      <td>EN_1912_Dreiser,Theodore_TheFinancier_Novel.txt</td>\n",
       "      <td>1912</td>\n",
       "    </tr>\n",
       "    <tr>\n",
       "      <th>134</th>\n",
       "      <td>EN_1913_Lawrence,D.H._SonsandLovers_Novel.txt</td>\n",
       "      <td>1913</td>\n",
       "    </tr>\n",
       "    <tr>\n",
       "      <th>135</th>\n",
       "      <td>EN_1915_Ford,FordMadox_TheGoodSoldier_Novel.txt</td>\n",
       "      <td>1915</td>\n",
       "    </tr>\n",
       "    <tr>\n",
       "      <th>136</th>\n",
       "      <td>EN_1916_Joyce,James_APortraitoftheArtistasaYou...</td>\n",
       "      <td>1916</td>\n",
       "    </tr>\n",
       "    <tr>\n",
       "      <th>137</th>\n",
       "      <td>EN_1917_Cahan,Abraham_TheRiseofDavidLevinsky_N...</td>\n",
       "      <td>1917</td>\n",
       "    </tr>\n",
       "    <tr>\n",
       "      <th>138</th>\n",
       "      <td>EN_1917_Lewis,Sinclair_TheInnocents_Novel.txt</td>\n",
       "      <td>1917</td>\n",
       "    </tr>\n",
       "    <tr>\n",
       "      <th>139</th>\n",
       "      <td>EN_1917_Webb,Mary_GonetoEart_Novel.txt</td>\n",
       "      <td>1917</td>\n",
       "    </tr>\n",
       "    <tr>\n",
       "      <th>140</th>\n",
       "      <td>EN_1918_Lewis,Sinclai_TheJob_Nove.txt</td>\n",
       "      <td>1918</td>\n",
       "    </tr>\n",
       "    <tr>\n",
       "      <th>141</th>\n",
       "      <td>EN_1920_DosPassos,John_ThreeSoldiers_Novel.txt</td>\n",
       "      <td>1920</td>\n",
       "    </tr>\n",
       "    <tr>\n",
       "      <th>142</th>\n",
       "      <td>EN_1920_Fitzgerald,FScott_ThisSideofParadise_N...</td>\n",
       "      <td>1920</td>\n",
       "    </tr>\n",
       "    <tr>\n",
       "      <th>143</th>\n",
       "      <td>EN_1920_Wharton,Edith_TheAgeofInnocence_Novel.txt</td>\n",
       "      <td>1920</td>\n",
       "    </tr>\n",
       "    <tr>\n",
       "      <th>144</th>\n",
       "      <td>EN_1922_Fitzgerald,FScott_TheBeautifulandtheDa...</td>\n",
       "      <td>1922</td>\n",
       "    </tr>\n",
       "    <tr>\n",
       "      <th>145</th>\n",
       "      <td>EN_1922_Joyce,James_Ulysses_Novel.txt</td>\n",
       "      <td>1922</td>\n",
       "    </tr>\n",
       "    <tr>\n",
       "      <th>146</th>\n",
       "      <td>EN_1925_Woolf,Virginia_Mrs.Dalloway_Novel.txt</td>\n",
       "      <td>1925</td>\n",
       "    </tr>\n",
       "    <tr>\n",
       "      <th>147</th>\n",
       "      <td>EN_1927_Woolf,Virginia_TotheLighthouse_Novel.txt</td>\n",
       "      <td>1927</td>\n",
       "    </tr>\n",
       "    <tr>\n",
       "      <th>148</th>\n",
       "      <td>EN_1928_Woolf,Virginia_Orlando_Novel.txt</td>\n",
       "      <td>1928</td>\n",
       "    </tr>\n",
       "    <tr>\n",
       "      <th>149</th>\n",
       "      <td>EN_1930_Mansfield,Katherine_TheAloe_Novel.txt</td>\n",
       "      <td>1930</td>\n",
       "    </tr>\n",
       "  </tbody>\n",
       "</table>\n",
       "<p>150 rows × 2 columns</p>\n",
       "</div>"
      ],
      "text/plain": [
       "                                                     0  date\n",
       "0    EN_1771_Mackenzie,Henry_TheManofFeeling_Novel.txt  1771\n",
       "1    EN_1771_Smollett,Tobias_TheExpedictionofHenryC...  1771\n",
       "2               EN_1778_Burney,Fanny_Evelina_Novel.txt  1778\n",
       "3               EN_1782_Burney,Fanny_Cecilia_Novel.txt  1782\n",
       "4            EN_1786_Beckford,William_Vathek_Novel.txt  1786\n",
       "5           EN_1788_Wollstonecraft,Mary_Mary_Novel.txt  1788\n",
       "6     EN_1790_Radcliffe,Ann_ASicilianRomance_Novel.txt  1790\n",
       "9     EN_1794_Rowson,Susanna_CharlotteTemple_Novel.txt  1794\n",
       "8    EN_1794_Radcliffe,Ann_TheMysteriesofUdolpho_No...  1794\n",
       "7       EN_1794_Godwin,William_CalebWilliams_Novel.txt  1794\n",
       "10             EN_1795_Lewis,Matthew_TheMonk_Novel.txt  1795\n",
       "11    EN_1796_Bonhote,Elizabeth_BungayCastle_Novel.txt  1796\n",
       "12              EN_1796_Burney,Fanny_Camilla_Novel.txt  1796\n",
       "13            EN_1796_Hays,Mary_EmmaCourtney_Novel.txt  1796\n",
       "14   EN_1797_Foster,HannahWebster_TheCoquette_Novel...  1797\n",
       "15     EN_1798_Brown,CharlesBrockden_Wieland_Novel.txt  1798\n",
       "16         EN_1798_Wollstonecraft,Mary_Maria_Novel.txt  1798\n",
       "17   EN_1799_Brown,CharlesBrockden_ArthurMervyn_Nov...  1799\n",
       "18    EN_1800_Edgeworth,Maria_CastleRackrent_Novel.txt  1800\n",
       "19           EN_1801_Edgeworth,Maria_Belinda_Novel.txt  1801\n",
       "20        EN_1804_Opie,Amelia_AdelineMowbray_Novel.txt  1804\n",
       "21    EN_1805_Lewis,Matthew_TheBravoofVenice_Novel.txt  1805\n",
       "22           EN_1806_Edgeworth,Maria_Leonora_Novel.txt  1806\n",
       "23   EN_1809_More,Hannah_CoelebsinSearchofaWife_Nov...  1809\n",
       "24   EN_1811_Austen,Jane_SenseandSensibility_Novel.txt  1811\n",
       "25     EN_1813_Austen,Jane_PrideandPrejudice_Novel.txt  1813\n",
       "27             EN_1814_Scott,Walter_Waverley_Novel.txt  1814\n",
       "26         EN_1814_Austen,Jane_MansfieldPark_Novel.txt  1814\n",
       "28   EN_1815_Peacock,ThomasLove_HeadlongHall_Novel.txt  1815\n",
       "29               EN_1817_Scott,Walter_RobRoy_Novel.txt  1817\n",
       "..                                                 ...   ...\n",
       "121              EN_1903_Norris,Frank_ThePit_Novel.txt  1903\n",
       "119       EN_1903_James,Henry_TheAmbassadors_Novel.txt  1903\n",
       "122  EN_1904_Murfree,MaryNoailles_TheFrontiersman_N...  1904\n",
       "123   EN_1905_Orczy,Emma_TheScarletPimpernel_Novel.txt  1905\n",
       "124    EN_1905_Wharton,Edith_TheHouseofMirth_Novel.txt  1905\n",
       "125            EN_1906_London,Jack_WhiteFang_Novel.txt  1906\n",
       "126         EN_1906_Sinclair,Upton_TheJungle_Novel.txt  1906\n",
       "127        EN_1906_Stein,Gertrude_ThreeLives_Novel.txt  1906\n",
       "128      EN_1908_Forster,E.M._ARoomWithaView_Novel.txt  1908\n",
       "129          EN_1910_Forster,E.M._HowardsEnd_Novel.txt  1910\n",
       "131         EN_1911_Wharton,Edith_EthanFrome_Novel.txt  1911\n",
       "130             EN_1911_Barrie,J.M._PeterPan_Novel.txt  1911\n",
       "132   EN_1912_Cather,Willa_Alexander'sBridge_Novel.txt  1912\n",
       "133    EN_1912_Dreiser,Theodore_TheFinancier_Novel.txt  1912\n",
       "134      EN_1913_Lawrence,D.H._SonsandLovers_Novel.txt  1913\n",
       "135    EN_1915_Ford,FordMadox_TheGoodSoldier_Novel.txt  1915\n",
       "136  EN_1916_Joyce,James_APortraitoftheArtistasaYou...  1916\n",
       "137  EN_1917_Cahan,Abraham_TheRiseofDavidLevinsky_N...  1917\n",
       "138      EN_1917_Lewis,Sinclair_TheInnocents_Novel.txt  1917\n",
       "139             EN_1917_Webb,Mary_GonetoEart_Novel.txt  1917\n",
       "140              EN_1918_Lewis,Sinclai_TheJob_Nove.txt  1918\n",
       "141     EN_1920_DosPassos,John_ThreeSoldiers_Novel.txt  1920\n",
       "142  EN_1920_Fitzgerald,FScott_ThisSideofParadise_N...  1920\n",
       "143  EN_1920_Wharton,Edith_TheAgeofInnocence_Novel.txt  1920\n",
       "144  EN_1922_Fitzgerald,FScott_TheBeautifulandtheDa...  1922\n",
       "145              EN_1922_Joyce,James_Ulysses_Novel.txt  1922\n",
       "146      EN_1925_Woolf,Virginia_Mrs.Dalloway_Novel.txt  1925\n",
       "147   EN_1927_Woolf,Virginia_TotheLighthouse_Novel.txt  1927\n",
       "148           EN_1928_Woolf,Virginia_Orlando_Novel.txt  1928\n",
       "149      EN_1930_Mansfield,Katherine_TheAloe_Novel.txt  1930\n",
       "\n",
       "[150 rows x 2 columns]"
      ]
     },
     "execution_count": 56,
     "metadata": {},
     "output_type": "execute_result"
    }
   ],
   "source": [
    "tdf.sort_values(by='date')"
   ]
  },
  {
   "cell_type": "code",
   "execution_count": 46,
   "metadata": {
    "collapsed": false
   },
   "outputs": [
    {
     "name": "stderr",
     "output_type": "stream",
     "text": [
      "/usr/lib/python3.5/site-packages/matplotlib/figure.py:1744: UserWarning: This figure includes Axes that are not compatible with tight_layout, so its results might be incorrect.\n",
      "  warnings.warn(\"This figure includes Axes that are not \"\n"
     ]
    },
    {
     "data": {
      "image/png": "[encoded data removed]",
      "text/plain": [
       "<matplotlib.figure.Figure at 0x7fae3ae25ef0>"
      ]
     },
     "metadata": {},
     "output_type": "display_data"
    }
   ],
   "source": [
    "ax = tdf['date'].hist()"
   ]
  },
  {
   "cell_type": "code",
   "execution_count": 49,
   "metadata": {
    "collapsed": false
   },
   "outputs": [
    {
     "data": {
      "text/plain": [
       "<matplotlib.text.Text at 0x7fae3af2e080>"
      ]
     },
     "execution_count": 49,
     "metadata": {},
     "output_type": "execute_result"
    }
   ],
   "source": [
    "ax.set_xlabel(\"Date of Publication\")\n",
    "ax.set_ylabel(\"Number of Novels in Corpus\")"
   ]
  },
  {
   "cell_type": "code",
   "execution_count": 52,
   "metadata": {
    "collapsed": false
   },
   "outputs": [],
   "source": [
    "fig = ax.get_figure()\n",
    "fig.savefig('txtlab-dates.png')"
   ]
  },
  {
   "cell_type": "code",
   "execution_count": null,
   "metadata": {
    "collapsed": true
   },
   "outputs": [],
   "source": []
  }
 ],
 "metadata": {
  "kernelspec": {
   "display_name": "Python 3",
   "language": "python",
   "name": "python3"
  },
  "language_info": {
   "codemirror_mode": {
    "name": "ipython",
    "version": 3
   },
   "file_extension": ".py",
   "mimetype": "text/x-python",
   "name": "python",
   "nbconvert_exporter": "python",
   "pygments_lexer": "ipython3",
   "version": "3.5.1"
  }
 },
 "nbformat": 4,
 "nbformat_minor": 0
}
